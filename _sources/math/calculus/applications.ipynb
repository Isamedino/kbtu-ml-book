{
 "cells": [
  {
   "cell_type": "markdown",
   "id": "c73dba8f",
   "metadata": {},
   "source": [
    "# Optimization\n",
    "\n",
    "Almost every task of machine learning is reduced to some optimization problem in multidimensional space. Sometimes the solution can be found analytically. \n",
    "\n",
    "```{admonition} Necessary condition of extremum\n",
    "If $\\mathcal L(\\theta)$ is a smooth function and\n",
    "\n",
    "$$\n",
    "    \\boldsymbol{\\widehat \\theta} = \\arg\\min \\mathcal L(\\theta),\n",
    "$$\n",
    "\n",
    "then $\\nabla \\mathcal L(\\boldsymbol{\\widehat \\theta}) = \\boldsymbol 0$.\n",
    "```\n",
    "\n",
    "A simple example $f(x) = x^3$ shows that this condition is not sufficient.\n",
    "\n",
    "```{admonition} Sufficient condition of extremum\n",
    "If $\\mathcal L(\\theta)$ is twice differentiable, $\\nabla \\mathcal L(\\boldsymbol {\\widehat \\theta}) = \\boldsymbol 0$ and $\\nabla^2\\mathcal L(\\boldsymbol{\\widehat \\theta}$ is positive (negative) definite, then\n",
    "then $\\widehat{\\boldsymbol \\theta}$ is a point of local minimum (maximum).\n",
    "```\n",
    "\n",
    "Проверить матрицу на положительную или отрицательную определённость можно с помощью [критерия Сильвестра](https://ru.wikipedia.org/wiki/Критерий_Сильвестра).\n",
    "\n"
   ]
  },
  {
   "cell_type": "markdown",
   "id": "46206063",
   "metadata": {},
   "source": [
    "## Exercises\n",
    "\n",
    "1. Let $\\boldsymbol A \\in \\mathbb R^{n\\times n}$ be a symmetric matrix and\n",
    "\n",
    "    $$\n",
    "    f(\\boldsymbol x) = \\frac{\\boldsymbol x^\\mathsf{T} \\boldsymbol{Ax}}{\\boldsymbol x^\\mathsf{T} \\boldsymbol x}, \\quad \\boldsymbol x \\in \\mathbb R^n.\n",
    "    $$ \n",
    "\n",
    "    * Calculate $\\nabla f(\\boldsymbol x)$ and prove that $\\nabla f(\\boldsymbol x) = \\boldsymbol 0$ iff $\\boldsymbol x$ is an eigenvector of $\\boldsymbol A$.\n",
    "\n",
    "    * Prove that if $\\boldsymbol A$ is positive definite then\n",
    "\n",
    "        $$\n",
    "            \\max\\limits_{\\boldsymbol x \\ne \\boldsymbol 0} f(\\boldsymbol x) = \\lambda_{\\max}(\\boldsymbol A), \\quad\n",
    "            \\min\\limits_{\\boldsymbol x \\ne \\boldsymbol 0} f(\\boldsymbol x) = \\lambda_{\\min}(\\boldsymbol A)\n",
    "        $$"
   ]
  }
 ],
 "metadata": {
  "kernelspec": {
   "display_name": "Python 3 (ipykernel)",
   "language": "python",
   "name": "python3"
  },
  "language_info": {
   "codemirror_mode": {
    "name": "ipython",
    "version": 3
   },
   "file_extension": ".py",
   "mimetype": "text/x-python",
   "name": "python",
   "nbconvert_exporter": "python",
   "pygments_lexer": "ipython3",
   "version": "3.11.4"
  }
 },
 "nbformat": 4,
 "nbformat_minor": 5
}
