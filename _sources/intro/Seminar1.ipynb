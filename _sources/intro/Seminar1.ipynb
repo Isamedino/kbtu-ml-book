{
 "cells": [
  {
   "cell_type": "code",
   "execution_count": 2,
   "id": "a6b26521",
   "metadata": {},
   "outputs": [
    {
     "data": {
      "text/plain": [
       "6220800"
      ]
     },
     "execution_count": 2,
     "metadata": {},
     "output_type": "execute_result"
    }
   ],
   "source": [
    "width = 1920\n",
    "height = 1080\n",
    "n_channels = 3\n",
    "\n",
    "n_features = width * height * n_channels\n",
    "n_features\n"
   ]
  },
  {
   "cell_type": "markdown",
   "id": "8075034d",
   "metadata": {},
   "source": [
    "Originally each Twitter message was limited by $140$\n",
    "characters. Suggest a couple of methods how to convert a tweet into a numeric vector."
   ]
  },
  {
   "cell_type": "code",
   "execution_count": null,
   "id": "49b83ac0",
   "metadata": {},
   "outputs": [],
   "source": [
    "s = \"I saw a cat\""
   ]
  },
  {
   "cell_type": "markdown",
   "id": "3c6809cb",
   "metadata": {},
   "source": [
    "Word embeddings"
   ]
  },
  {
   "cell_type": "markdown",
   "id": "36943442",
   "metadata": {},
   "source": [
    "Misclassification rate:\n",
    "\n",
    "$$\n",
    "\\frac 1n \\sum\\limits_{i=1}^n \\mathbb I\\big[y_i \\ne \\hat y_i\\big]\n",
    "$$\n",
    "\n",
    "Accuracy:\n",
    "\n",
    "$$\n",
    "\\frac 1n \\sum\\limits_{i=1}^n \\mathbb I\\big[y_i = \\hat y_i\\big]\n",
    "$$\n",
    "\n",
    "Sum them up:\n",
    "\n",
    "$$\n",
    "\\frac 1n \\sum\\limits_{i=1}^n \\mathbb I\\big[y_i \\ne \\hat y_i\\big] + \\frac 1n \\sum\\limits_{i=1}^n \\mathbb I\\big[y_i = \\hat y_i\\big] = \\frac 1n \\sum\\limits_{i=1}^n \\Big(\\mathbb I\\big[y_i \\ne \\hat y_i\\big] + \\mathbb I\\big[y_i = \\hat y_i\\big]\\Big) = \\frac 1n \\sum\\limits_{i=1}^n 1 = \\frac n n = 1\n",
    "$$"
   ]
  },
  {
   "cell_type": "markdown",
   "id": "52ea4cb5",
   "metadata": {},
   "source": [
    "$n = 4$\n",
    "\n",
    "$$\n",
    "    0 \\to (1, 0, 0)\\quad\n",
    "    1 \\to (0, 1, 0)\\quad\n",
    "    2 \\to (0, 0, 1)\n",
    "$$\n",
    "\n",
    "$$\n",
    "\\boldsymbol y_1 = (1, 0, 0), \\quad \\widehat{\\boldsymbol y_1}= (0.25, 0.4, 0.35)\n",
    "$$\n",
    "\n",
    "$$\n",
    "1 \\cdot \\log_2(0.25) + 0\\cdot \\log_2(0.4) + 0\\cdot \\log_2(0.35) = -2\n",
    "$$\n",
    "\n",
    "$$\n",
    "-\\frac{-2 - 1 - \\frac 12 + 0}4 = \\frac 78\n",
    "$$"
   ]
  }
 ],
 "metadata": {
  "kernelspec": {
   "display_name": "Python 3 (ipykernel)",
   "language": "python",
   "name": "python3"
  },
  "language_info": {
   "codemirror_mode": {
    "name": "ipython",
    "version": 3
   },
   "file_extension": ".py",
   "mimetype": "text/x-python",
   "name": "python",
   "nbconvert_exporter": "python",
   "pygments_lexer": "ipython3",
   "version": "3.11.4"
  }
 },
 "nbformat": 4,
 "nbformat_minor": 5
}
